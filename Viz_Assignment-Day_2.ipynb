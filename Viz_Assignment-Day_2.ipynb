{
 "cells": [
  {
   "cell_type": "markdown",
   "metadata": {},
   "source": [
    "# Question 1\n",
    "<br>\n",
    "Create a dataframe with 10 rows on random numbers and 4 columns, (columns labelled as a,b,c,d) and plot a bar chart.\n"
   ]
  },
  {
   "cell_type": "code",
   "execution_count": 1,
   "metadata": {},
   "outputs": [],
   "source": [
    "import numpy as np\n",
    "import pandas as pd\n",
    "import matplotlib.pyplot as plt\n",
    "from numpy.random import randn"
   ]
  },
  {
   "cell_type": "code",
   "execution_count": 2,
   "metadata": {},
   "outputs": [],
   "source": [
    "my_df = pd.DataFrame(randn(10,4), columns=['a','b','c','d'])"
   ]
  },
  {
   "cell_type": "code",
   "execution_count": 3,
   "metadata": {},
   "outputs": [
    {
     "data": {
      "text/html": [
       "<div>\n",
       "<style scoped>\n",
       "    .dataframe tbody tr th:only-of-type {\n",
       "        vertical-align: middle;\n",
       "    }\n",
       "\n",
       "    .dataframe tbody tr th {\n",
       "        vertical-align: top;\n",
       "    }\n",
       "\n",
       "    .dataframe thead th {\n",
       "        text-align: right;\n",
       "    }\n",
       "</style>\n",
       "<table border=\"1\" class=\"dataframe\">\n",
       "  <thead>\n",
       "    <tr style=\"text-align: right;\">\n",
       "      <th></th>\n",
       "      <th>a</th>\n",
       "      <th>b</th>\n",
       "      <th>c</th>\n",
       "      <th>d</th>\n",
       "    </tr>\n",
       "  </thead>\n",
       "  <tbody>\n",
       "    <tr>\n",
       "      <td>0</td>\n",
       "      <td>1.005510</td>\n",
       "      <td>-0.181603</td>\n",
       "      <td>0.150278</td>\n",
       "      <td>1.260207</td>\n",
       "    </tr>\n",
       "    <tr>\n",
       "      <td>1</td>\n",
       "      <td>0.855125</td>\n",
       "      <td>-0.118682</td>\n",
       "      <td>0.994349</td>\n",
       "      <td>0.406776</td>\n",
       "    </tr>\n",
       "    <tr>\n",
       "      <td>2</td>\n",
       "      <td>0.589729</td>\n",
       "      <td>2.556748</td>\n",
       "      <td>0.331327</td>\n",
       "      <td>-0.293061</td>\n",
       "    </tr>\n",
       "    <tr>\n",
       "      <td>3</td>\n",
       "      <td>-0.508282</td>\n",
       "      <td>1.111406</td>\n",
       "      <td>-1.429705</td>\n",
       "      <td>-0.805433</td>\n",
       "    </tr>\n",
       "    <tr>\n",
       "      <td>4</td>\n",
       "      <td>0.168835</td>\n",
       "      <td>-0.772336</td>\n",
       "      <td>-0.319730</td>\n",
       "      <td>-0.630187</td>\n",
       "    </tr>\n",
       "    <tr>\n",
       "      <td>5</td>\n",
       "      <td>0.295512</td>\n",
       "      <td>-0.971556</td>\n",
       "      <td>0.555187</td>\n",
       "      <td>-0.853634</td>\n",
       "    </tr>\n",
       "    <tr>\n",
       "      <td>6</td>\n",
       "      <td>-0.037142</td>\n",
       "      <td>-0.556141</td>\n",
       "      <td>0.453749</td>\n",
       "      <td>-0.385375</td>\n",
       "    </tr>\n",
       "    <tr>\n",
       "      <td>7</td>\n",
       "      <td>-0.438228</td>\n",
       "      <td>1.014294</td>\n",
       "      <td>2.191831</td>\n",
       "      <td>-0.493635</td>\n",
       "    </tr>\n",
       "    <tr>\n",
       "      <td>8</td>\n",
       "      <td>1.080463</td>\n",
       "      <td>1.116319</td>\n",
       "      <td>1.102324</td>\n",
       "      <td>0.096881</td>\n",
       "    </tr>\n",
       "    <tr>\n",
       "      <td>9</td>\n",
       "      <td>-1.133642</td>\n",
       "      <td>0.169746</td>\n",
       "      <td>-0.701395</td>\n",
       "      <td>-1.437308</td>\n",
       "    </tr>\n",
       "  </tbody>\n",
       "</table>\n",
       "</div>"
      ],
      "text/plain": [
       "          a         b         c         d\n",
       "0  1.005510 -0.181603  0.150278  1.260207\n",
       "1  0.855125 -0.118682  0.994349  0.406776\n",
       "2  0.589729  2.556748  0.331327 -0.293061\n",
       "3 -0.508282  1.111406 -1.429705 -0.805433\n",
       "4  0.168835 -0.772336 -0.319730 -0.630187\n",
       "5  0.295512 -0.971556  0.555187 -0.853634\n",
       "6 -0.037142 -0.556141  0.453749 -0.385375\n",
       "7 -0.438228  1.014294  2.191831 -0.493635\n",
       "8  1.080463  1.116319  1.102324  0.096881\n",
       "9 -1.133642  0.169746 -0.701395 -1.437308"
      ]
     },
     "execution_count": 3,
     "metadata": {},
     "output_type": "execute_result"
    }
   ],
   "source": [
    "my_df"
   ]
  },
  {
   "cell_type": "code",
   "execution_count": 22,
   "metadata": {},
   "outputs": [
    {
     "data": {
      "image/png": "[encoded data removed]",
      "text/plain": [
       "<Figure size 864x648 with 1 Axes>"
      ]
     },
     "metadata": {
      "needs_background": "light"
     },
     "output_type": "display_data"
    }
   ],
   "source": [
    "my_df.plot(kind='bar',width=(0.5),figsize=(12,9))\n",
    "plt.title('Bar Graph')\n",
    "plt.xlabel(\"Row Number\")\n",
    "plt.ylabel(\"Value\")\n",
    "plt.show()"
   ]
  },
  {
   "cell_type": "code",
   "execution_count": 21,
   "metadata": {},
   "outputs": [
    {
     "data": {
      "image/png": "[encoded data removed]",
      "text/plain": [
       "<Figure size 864x648 with 1 Axes>"
      ]
     },
     "metadata": {
      "needs_background": "light"
     },
     "output_type": "display_data"
    }
   ],
   "source": [
    "my_df.plot(kind='bar', stacked=True, width=(0.5),figsize=(12,9))\n",
    "plt.title('Stacked Bar Graph')\n",
    "plt.grid()\n",
    "\n",
    "\n",
    "plt.show()\n",
    "\n"
   ]
  },
  {
   "cell_type": "code",
   "execution_count": null,
   "metadata": {},
   "outputs": [],
   "source": []
  }
 ],
 "metadata": {
  "kernelspec": {
   "display_name": "Python 3",
   "language": "python",
   "name": "python3"
  },
  "language_info": {
   "codemirror_mode": {
    "name": "ipython",
    "version": 3
   },
   "file_extension": ".py",
   "mimetype": "text/x-python",
   "name": "python",
   "nbconvert_exporter": "python",
   "pygments_lexer": "ipython3",
   "version": "3.7.4"
  }
 },
 "nbformat": 4,
 "nbformat_minor": 2
}
